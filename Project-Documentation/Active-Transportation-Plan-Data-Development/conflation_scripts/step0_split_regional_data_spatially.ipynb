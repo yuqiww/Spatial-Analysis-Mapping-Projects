{
 "cells": [
  {
   "cell_type": "markdown",
   "metadata": {},
   "source": [
    "This script splits regional datasets spatially using the 14-area system (named \"boundary_1\" to \"boundary_14\") created during the TM2 networks creation process. \n",
    "\n",
    "If a line falls into multiple boundaries, the line won't be broken; the complete line would be included in each boundary.\n",
    "\n",
    "After running this script and before running \"step1_batch_match_bike_rules.sh', move 'batc_bike_network_v2_epsg4326.geojson', 'caltrans_d4_bike_network_epsg4326.geojson', 'vta_bike_network_v2_epsg4326.geojson' out of the 'geojson' folder."
   ]
  },
  {
   "cell_type": "code",
   "execution_count": 1,
   "metadata": {},
   "outputs": [],
   "source": [
    "import os\n",
    "import fiona\n",
    "import geopandas as gpd"
   ]
  },
  {
   "cell_type": "code",
   "execution_count": 2,
   "metadata": {},
   "outputs": [],
   "source": [
    "box_folder = 'C:\\\\Users\\\\ywang\\\\Box\\\\DataViz Projects\\\\Spatial Analysis and Mapping\\\\Active Transportation Plan'\n",
    "boundary_folder = os.path.join(box_folder, 'Data', 'helpers', 'split_boundaries')"
   ]
  },
  {
   "cell_type": "code",
   "execution_count": 3,
   "metadata": {
    "scrolled": true
   },
   "outputs": [
    {
     "name": "stdout",
     "output_type": "stream",
     "text": [
      "use C:\\Users\\ywang\\Box\\DataViz Projects\\Spatial Analysis and Mapping\\Active Transportation Plan\\Data\\helpers\\split_boundaries\\boundary_1.geojson to intersect\n",
      "export 94 links from intersecting to C:\\Users\\ywang\\Box\\DataViz Projects\\Spatial Analysis and Mapping\\Active Transportation Plan\\Data\\geojson\\batc_bike_network_v2_epsg4326_1.geojson\n",
      "use C:\\Users\\ywang\\Box\\DataViz Projects\\Spatial Analysis and Mapping\\Active Transportation Plan\\Data\\helpers\\split_boundaries\\boundary_2.geojson to intersect\n",
      "export 358 links from intersecting to C:\\Users\\ywang\\Box\\DataViz Projects\\Spatial Analysis and Mapping\\Active Transportation Plan\\Data\\geojson\\batc_bike_network_v2_epsg4326_2.geojson\n",
      "use C:\\Users\\ywang\\Box\\DataViz Projects\\Spatial Analysis and Mapping\\Active Transportation Plan\\Data\\helpers\\split_boundaries\\boundary_3.geojson to intersect\n",
      "export 123 links from intersecting to C:\\Users\\ywang\\Box\\DataViz Projects\\Spatial Analysis and Mapping\\Active Transportation Plan\\Data\\geojson\\batc_bike_network_v2_epsg4326_3.geojson\n",
      "use C:\\Users\\ywang\\Box\\DataViz Projects\\Spatial Analysis and Mapping\\Active Transportation Plan\\Data\\helpers\\split_boundaries\\boundary_4.geojson to intersect\n",
      "export 568 links from intersecting to C:\\Users\\ywang\\Box\\DataViz Projects\\Spatial Analysis and Mapping\\Active Transportation Plan\\Data\\geojson\\batc_bike_network_v2_epsg4326_4.geojson\n",
      "use C:\\Users\\ywang\\Box\\DataViz Projects\\Spatial Analysis and Mapping\\Active Transportation Plan\\Data\\helpers\\split_boundaries\\boundary_5.geojson to intersect\n",
      "export 420 links from intersecting to C:\\Users\\ywang\\Box\\DataViz Projects\\Spatial Analysis and Mapping\\Active Transportation Plan\\Data\\geojson\\batc_bike_network_v2_epsg4326_5.geojson\n",
      "use C:\\Users\\ywang\\Box\\DataViz Projects\\Spatial Analysis and Mapping\\Active Transportation Plan\\Data\\helpers\\split_boundaries\\boundary_6.geojson to intersect\n",
      "export 28 links from intersecting to C:\\Users\\ywang\\Box\\DataViz Projects\\Spatial Analysis and Mapping\\Active Transportation Plan\\Data\\geojson\\batc_bike_network_v2_epsg4326_6.geojson\n",
      "use C:\\Users\\ywang\\Box\\DataViz Projects\\Spatial Analysis and Mapping\\Active Transportation Plan\\Data\\helpers\\split_boundaries\\boundary_7.geojson to intersect\n",
      "export 392 links from intersecting to C:\\Users\\ywang\\Box\\DataViz Projects\\Spatial Analysis and Mapping\\Active Transportation Plan\\Data\\geojson\\batc_bike_network_v2_epsg4326_7.geojson\n",
      "use C:\\Users\\ywang\\Box\\DataViz Projects\\Spatial Analysis and Mapping\\Active Transportation Plan\\Data\\helpers\\split_boundaries\\boundary_8.geojson to intersect\n",
      "export 106 links from intersecting to C:\\Users\\ywang\\Box\\DataViz Projects\\Spatial Analysis and Mapping\\Active Transportation Plan\\Data\\geojson\\batc_bike_network_v2_epsg4326_8.geojson\n",
      "use C:\\Users\\ywang\\Box\\DataViz Projects\\Spatial Analysis and Mapping\\Active Transportation Plan\\Data\\helpers\\split_boundaries\\boundary_9.geojson to intersect\n",
      "export 52 links from intersecting to C:\\Users\\ywang\\Box\\DataViz Projects\\Spatial Analysis and Mapping\\Active Transportation Plan\\Data\\geojson\\batc_bike_network_v2_epsg4326_9.geojson\n",
      "use C:\\Users\\ywang\\Box\\DataViz Projects\\Spatial Analysis and Mapping\\Active Transportation Plan\\Data\\helpers\\split_boundaries\\boundary_10.geojson to intersect\n",
      "export 272 links from intersecting to C:\\Users\\ywang\\Box\\DataViz Projects\\Spatial Analysis and Mapping\\Active Transportation Plan\\Data\\geojson\\batc_bike_network_v2_epsg4326_10.geojson\n",
      "use C:\\Users\\ywang\\Box\\DataViz Projects\\Spatial Analysis and Mapping\\Active Transportation Plan\\Data\\helpers\\split_boundaries\\boundary_11.geojson to intersect\n",
      "export 80 links from intersecting to C:\\Users\\ywang\\Box\\DataViz Projects\\Spatial Analysis and Mapping\\Active Transportation Plan\\Data\\geojson\\batc_bike_network_v2_epsg4326_11.geojson\n",
      "use C:\\Users\\ywang\\Box\\DataViz Projects\\Spatial Analysis and Mapping\\Active Transportation Plan\\Data\\helpers\\split_boundaries\\boundary_12.geojson to intersect\n",
      "export 115 links from intersecting to C:\\Users\\ywang\\Box\\DataViz Projects\\Spatial Analysis and Mapping\\Active Transportation Plan\\Data\\geojson\\batc_bike_network_v2_epsg4326_12.geojson\n",
      "use C:\\Users\\ywang\\Box\\DataViz Projects\\Spatial Analysis and Mapping\\Active Transportation Plan\\Data\\helpers\\split_boundaries\\boundary_13.geojson to intersect\n",
      "export 114 links from intersecting to C:\\Users\\ywang\\Box\\DataViz Projects\\Spatial Analysis and Mapping\\Active Transportation Plan\\Data\\geojson\\batc_bike_network_v2_epsg4326_13.geojson\n",
      "use C:\\Users\\ywang\\Box\\DataViz Projects\\Spatial Analysis and Mapping\\Active Transportation Plan\\Data\\helpers\\split_boundaries\\boundary_14.geojson to intersect\n",
      "export 236 links from intersecting to C:\\Users\\ywang\\Box\\DataViz Projects\\Spatial Analysis and Mapping\\Active Transportation Plan\\Data\\geojson\\batc_bike_network_v2_epsg4326_14.geojson\n"
     ]
    }
   ],
   "source": [
    "# Partition batc data by sub-geography for shst match\n",
    "batc_gdf = gpd.read_file(os.path.join(box_folder, 'Data', 'geojson', 'batc_bike_network_v2_epsg4326.geojson'))\n",
    "\n",
    "for i in range(14):\n",
    "    file = os.path.join(boundary_folder, 'boundary_'+str(i+1)+'.geojson')\n",
    "    print('use {} to intersect'.format(file))\n",
    "    boundary_gdf = gpd.read_file(os.path.join(boundary_folder, 'boundary_'+str(i+1)+'.geojson'))\n",
    "    \n",
    "    sub_batc_gdf = batc_gdf[batc_gdf.intersects(boundary_gdf.geometry.unary_union)].copy()\n",
    "    \n",
    "    if sub_batc_gdf.shape[0] > 0:\n",
    "        output_file = os.path.join(box_folder, 'Data', 'geojson', 'batc_bike_network_v2_epsg4326_'+str(i+1)+'.geojson')\n",
    "        print('export {} links from intersecting to {}'.format(sub_batc_gdf.shape[0], output_file))\n",
    "        sub_batc_gdf.to_file(output_file,\n",
    "                             driver = \"GeoJSON\")\n",
    "    else:\n",
    "        print('no link from intersecting')"
   ]
  },
  {
   "cell_type": "code",
   "execution_count": 4,
   "metadata": {},
   "outputs": [
    {
     "name": "stdout",
     "output_type": "stream",
     "text": [
      "use C:\\Users\\ywang\\Box\\DataViz Projects\\Spatial Analysis and Mapping\\Active Transportation Plan\\Data\\helpers\\split_boundaries\\boundary_1.geojson to intersect\n",
      "export 3 links from intersecting to C:\\Users\\ywang\\Box\\DataViz Projects\\Spatial Analysis and Mapping\\Active Transportation Plan\\Data\\geojson\\caltrans_d4_bike_network_epsg4326_1.geojson\n",
      "use C:\\Users\\ywang\\Box\\DataViz Projects\\Spatial Analysis and Mapping\\Active Transportation Plan\\Data\\helpers\\split_boundaries\\boundary_2.geojson to intersect\n",
      "export 20 links from intersecting to C:\\Users\\ywang\\Box\\DataViz Projects\\Spatial Analysis and Mapping\\Active Transportation Plan\\Data\\geojson\\caltrans_d4_bike_network_epsg4326_2.geojson\n",
      "use C:\\Users\\ywang\\Box\\DataViz Projects\\Spatial Analysis and Mapping\\Active Transportation Plan\\Data\\helpers\\split_boundaries\\boundary_3.geojson to intersect\n",
      "export 18 links from intersecting to C:\\Users\\ywang\\Box\\DataViz Projects\\Spatial Analysis and Mapping\\Active Transportation Plan\\Data\\geojson\\caltrans_d4_bike_network_epsg4326_3.geojson\n",
      "use C:\\Users\\ywang\\Box\\DataViz Projects\\Spatial Analysis and Mapping\\Active Transportation Plan\\Data\\helpers\\split_boundaries\\boundary_4.geojson to intersect\n",
      "export 4 links from intersecting to C:\\Users\\ywang\\Box\\DataViz Projects\\Spatial Analysis and Mapping\\Active Transportation Plan\\Data\\geojson\\caltrans_d4_bike_network_epsg4326_4.geojson\n",
      "use C:\\Users\\ywang\\Box\\DataViz Projects\\Spatial Analysis and Mapping\\Active Transportation Plan\\Data\\helpers\\split_boundaries\\boundary_5.geojson to intersect\n",
      "export 14 links from intersecting to C:\\Users\\ywang\\Box\\DataViz Projects\\Spatial Analysis and Mapping\\Active Transportation Plan\\Data\\geojson\\caltrans_d4_bike_network_epsg4326_5.geojson\n",
      "use C:\\Users\\ywang\\Box\\DataViz Projects\\Spatial Analysis and Mapping\\Active Transportation Plan\\Data\\helpers\\split_boundaries\\boundary_6.geojson to intersect\n",
      "export 2 links from intersecting to C:\\Users\\ywang\\Box\\DataViz Projects\\Spatial Analysis and Mapping\\Active Transportation Plan\\Data\\geojson\\caltrans_d4_bike_network_epsg4326_6.geojson\n",
      "use C:\\Users\\ywang\\Box\\DataViz Projects\\Spatial Analysis and Mapping\\Active Transportation Plan\\Data\\helpers\\split_boundaries\\boundary_7.geojson to intersect\n",
      "export 37 links from intersecting to C:\\Users\\ywang\\Box\\DataViz Projects\\Spatial Analysis and Mapping\\Active Transportation Plan\\Data\\geojson\\caltrans_d4_bike_network_epsg4326_7.geojson\n",
      "use C:\\Users\\ywang\\Box\\DataViz Projects\\Spatial Analysis and Mapping\\Active Transportation Plan\\Data\\helpers\\split_boundaries\\boundary_8.geojson to intersect\n",
      "export 21 links from intersecting to C:\\Users\\ywang\\Box\\DataViz Projects\\Spatial Analysis and Mapping\\Active Transportation Plan\\Data\\geojson\\caltrans_d4_bike_network_epsg4326_8.geojson\n",
      "use C:\\Users\\ywang\\Box\\DataViz Projects\\Spatial Analysis and Mapping\\Active Transportation Plan\\Data\\helpers\\split_boundaries\\boundary_9.geojson to intersect\n",
      "export 3 links from intersecting to C:\\Users\\ywang\\Box\\DataViz Projects\\Spatial Analysis and Mapping\\Active Transportation Plan\\Data\\geojson\\caltrans_d4_bike_network_epsg4326_9.geojson\n",
      "use C:\\Users\\ywang\\Box\\DataViz Projects\\Spatial Analysis and Mapping\\Active Transportation Plan\\Data\\helpers\\split_boundaries\\boundary_10.geojson to intersect\n",
      "export 6 links from intersecting to C:\\Users\\ywang\\Box\\DataViz Projects\\Spatial Analysis and Mapping\\Active Transportation Plan\\Data\\geojson\\caltrans_d4_bike_network_epsg4326_10.geojson\n",
      "use C:\\Users\\ywang\\Box\\DataViz Projects\\Spatial Analysis and Mapping\\Active Transportation Plan\\Data\\helpers\\split_boundaries\\boundary_11.geojson to intersect\n",
      "export 7 links from intersecting to C:\\Users\\ywang\\Box\\DataViz Projects\\Spatial Analysis and Mapping\\Active Transportation Plan\\Data\\geojson\\caltrans_d4_bike_network_epsg4326_11.geojson\n",
      "use C:\\Users\\ywang\\Box\\DataViz Projects\\Spatial Analysis and Mapping\\Active Transportation Plan\\Data\\helpers\\split_boundaries\\boundary_12.geojson to intersect\n",
      "export 3 links from intersecting to C:\\Users\\ywang\\Box\\DataViz Projects\\Spatial Analysis and Mapping\\Active Transportation Plan\\Data\\geojson\\caltrans_d4_bike_network_epsg4326_12.geojson\n",
      "use C:\\Users\\ywang\\Box\\DataViz Projects\\Spatial Analysis and Mapping\\Active Transportation Plan\\Data\\helpers\\split_boundaries\\boundary_13.geojson to intersect\n",
      "export 8 links from intersecting to C:\\Users\\ywang\\Box\\DataViz Projects\\Spatial Analysis and Mapping\\Active Transportation Plan\\Data\\geojson\\caltrans_d4_bike_network_epsg4326_13.geojson\n",
      "use C:\\Users\\ywang\\Box\\DataViz Projects\\Spatial Analysis and Mapping\\Active Transportation Plan\\Data\\helpers\\split_boundaries\\boundary_14.geojson to intersect\n",
      "export 11 links from intersecting to C:\\Users\\ywang\\Box\\DataViz Projects\\Spatial Analysis and Mapping\\Active Transportation Plan\\Data\\geojson\\caltrans_d4_bike_network_epsg4326_14.geojson\n"
     ]
    }
   ],
   "source": [
    "# Partition caltrains data by sub-geography for shst match\n",
    "caltrain_gdf = gpd.read_file(os.path.join(box_folder, 'Data', 'geojson', 'caltrans_d4_bike_network_epsg4326.geojson'))\n",
    "\n",
    "for i in range(14):\n",
    "    file = os.path.join(boundary_folder, 'boundary_'+str(i+1)+'.geojson')\n",
    "    print('use {} to intersect'.format(file))\n",
    "    boundary_gdf = gpd.read_file(os.path.join(boundary_folder, 'boundary_'+str(i+1)+'.geojson'))\n",
    "    \n",
    "    sub_caltrain_gdf = caltrain_gdf[caltrain_gdf.intersects(boundary_gdf.geometry.unary_union)].copy()\n",
    "    \n",
    "    if sub_caltrain_gdf.shape[0] > 0:\n",
    "        output_file = os.path.join(box_folder, 'Data', 'geojson', 'caltrans_d4_bike_network_epsg4326_'+str(i+1)+'.geojson')\n",
    "        print('export {} links from intersecting to {}'.format(sub_caltrain_gdf.shape[0], output_file))\n",
    "        sub_caltrain_gdf.to_file(output_file,\n",
    "                                 driver = \"GeoJSON\")\n",
    "    else:\n",
    "        print('no link from intersecting')"
   ]
  },
  {
   "cell_type": "code",
   "execution_count": 5,
   "metadata": {},
   "outputs": [
    {
     "name": "stdout",
     "output_type": "stream",
     "text": [
      "use C:\\Users\\ywang\\Box\\DataViz Projects\\Spatial Analysis and Mapping\\Active Transportation Plan\\Data\\helpers\\split_boundaries\\boundary_1.geojson to intersect\n",
      "no link from intersecting\n",
      "use C:\\Users\\ywang\\Box\\DataViz Projects\\Spatial Analysis and Mapping\\Active Transportation Plan\\Data\\helpers\\split_boundaries\\boundary_2.geojson to intersect\n",
      "no link from intersecting\n",
      "use C:\\Users\\ywang\\Box\\DataViz Projects\\Spatial Analysis and Mapping\\Active Transportation Plan\\Data\\helpers\\split_boundaries\\boundary_3.geojson to intersect\n",
      "no link from intersecting\n",
      "use C:\\Users\\ywang\\Box\\DataViz Projects\\Spatial Analysis and Mapping\\Active Transportation Plan\\Data\\helpers\\split_boundaries\\boundary_4.geojson to intersect\n",
      "no link from intersecting\n",
      "use C:\\Users\\ywang\\Box\\DataViz Projects\\Spatial Analysis and Mapping\\Active Transportation Plan\\Data\\helpers\\split_boundaries\\boundary_5.geojson to intersect\n",
      "no link from intersecting\n",
      "use C:\\Users\\ywang\\Box\\DataViz Projects\\Spatial Analysis and Mapping\\Active Transportation Plan\\Data\\helpers\\split_boundaries\\boundary_6.geojson to intersect\n",
      "export 2440 links from intersecting to C:\\Users\\ywang\\Box\\DataViz Projects\\Spatial Analysis and Mapping\\Active Transportation Plan\\Data\\geojson\\vta_bike_network_v2_epsg4326_6.geojson\n",
      "use C:\\Users\\ywang\\Box\\DataViz Projects\\Spatial Analysis and Mapping\\Active Transportation Plan\\Data\\helpers\\split_boundaries\\boundary_7.geojson to intersect\n",
      "export 2 links from intersecting to C:\\Users\\ywang\\Box\\DataViz Projects\\Spatial Analysis and Mapping\\Active Transportation Plan\\Data\\geojson\\vta_bike_network_v2_epsg4326_7.geojson\n",
      "use C:\\Users\\ywang\\Box\\DataViz Projects\\Spatial Analysis and Mapping\\Active Transportation Plan\\Data\\helpers\\split_boundaries\\boundary_8.geojson to intersect\n",
      "no link from intersecting\n",
      "use C:\\Users\\ywang\\Box\\DataViz Projects\\Spatial Analysis and Mapping\\Active Transportation Plan\\Data\\helpers\\split_boundaries\\boundary_9.geojson to intersect\n",
      "no link from intersecting\n",
      "use C:\\Users\\ywang\\Box\\DataViz Projects\\Spatial Analysis and Mapping\\Active Transportation Plan\\Data\\helpers\\split_boundaries\\boundary_10.geojson to intersect\n",
      "no link from intersecting\n",
      "use C:\\Users\\ywang\\Box\\DataViz Projects\\Spatial Analysis and Mapping\\Active Transportation Plan\\Data\\helpers\\split_boundaries\\boundary_11.geojson to intersect\n",
      "export 9 links from intersecting to C:\\Users\\ywang\\Box\\DataViz Projects\\Spatial Analysis and Mapping\\Active Transportation Plan\\Data\\geojson\\vta_bike_network_v2_epsg4326_11.geojson\n",
      "use C:\\Users\\ywang\\Box\\DataViz Projects\\Spatial Analysis and Mapping\\Active Transportation Plan\\Data\\helpers\\split_boundaries\\boundary_12.geojson to intersect\n",
      "export 10087 links from intersecting to C:\\Users\\ywang\\Box\\DataViz Projects\\Spatial Analysis and Mapping\\Active Transportation Plan\\Data\\geojson\\vta_bike_network_v2_epsg4326_12.geojson\n",
      "use C:\\Users\\ywang\\Box\\DataViz Projects\\Spatial Analysis and Mapping\\Active Transportation Plan\\Data\\helpers\\split_boundaries\\boundary_13.geojson to intersect\n",
      "export 8917 links from intersecting to C:\\Users\\ywang\\Box\\DataViz Projects\\Spatial Analysis and Mapping\\Active Transportation Plan\\Data\\geojson\\vta_bike_network_v2_epsg4326_13.geojson\n",
      "use C:\\Users\\ywang\\Box\\DataViz Projects\\Spatial Analysis and Mapping\\Active Transportation Plan\\Data\\helpers\\split_boundaries\\boundary_14.geojson to intersect\n",
      "no link from intersecting\n"
     ]
    }
   ],
   "source": [
    "# Partition VTA data by sub-geography for shst match\n",
    "vta_gdf = gpd.read_file(os.path.join(box_folder, 'Data', 'geojson', 'vta_bike_network_v2_epsg4326.geojson'))\n",
    "\n",
    "for i in range(14):\n",
    "    file = os.path.join(boundary_folder, 'boundary_'+str(i+1)+'.geojson')\n",
    "    print('use {} to intersect'.format(file))\n",
    "    boundary_gdf = gpd.read_file(os.path.join(boundary_folder, 'boundary_'+str(i+1)+'.geojson'))\n",
    "    \n",
    "    sub_vta_gdf = vta_gdf[vta_gdf.intersects(boundary_gdf.geometry.unary_union)].copy()\n",
    "    \n",
    "    if sub_vta_gdf.shape[0] > 0:\n",
    "        output_file = os.path.join(box_folder, 'Data', 'geojson', 'vta_bike_network_v2_epsg4326_'+str(i+1)+'.geojson')\n",
    "        print('export {} links from intersecting to {}'.format(sub_vta_gdf.shape[0], output_file))\n",
    "        sub_vta_gdf.to_file(output_file,\n",
    "                            driver = \"GeoJSON\")\n",
    "    else:\n",
    "        print('no link from intersecting')"
   ]
  }
 ],
 "metadata": {
  "kernelspec": {
   "display_name": "Python 3",
   "language": "python",
   "name": "python3"
  },
  "language_info": {
   "codemirror_mode": {
    "name": "ipython",
    "version": 3
   },
   "file_extension": ".py",
   "mimetype": "text/x-python",
   "name": "python",
   "nbconvert_exporter": "python",
   "pygments_lexer": "ipython3",
   "version": "3.7.4"
  }
 },
 "nbformat": 4,
 "nbformat_minor": 2
}
