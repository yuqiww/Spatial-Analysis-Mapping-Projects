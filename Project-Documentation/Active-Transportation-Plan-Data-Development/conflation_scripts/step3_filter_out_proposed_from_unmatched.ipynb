{
 "cells": [
  {
   "cell_type": "markdown",
   "metadata": {},
   "source": [
    "Filter out \"proposed\" bike links from all the links that failed to match shst networks in step1 (bike rules) and step2 (car rules). The remaining will need to be matched with an increased search distance."
   ]
  },
  {
   "cell_type": "code",
   "execution_count": 1,
   "metadata": {},
   "outputs": [],
   "source": [
    "import os, glob\n",
    "import fiona\n",
    "import geopandas as gpd\n",
    "import pandas as pd"
   ]
  },
  {
   "cell_type": "code",
   "execution_count": 2,
   "metadata": {},
   "outputs": [],
   "source": [
    "box_f = 'C:\\\\Users\\\\{}\\\\Box\\\\DataViz Projects\\\\Spatial Analysis and Mapping\\\\Active Transportation Plan\\\\Data'.format(os.getenv('USERNAME'))\n",
    "github_f = '..\\\\Data'"
   ]
  },
  {
   "cell_type": "code",
   "execution_count": 3,
   "metadata": {},
   "outputs": [],
   "source": [
    "# input folder\n",
    "unmatched_f = os.path.join(box_f, 'shst_match', '2_car_rules')\n",
    "\n",
    "# export folders\n",
    "# proposed:\n",
    "proposed_f = os.path.join(github_f, 'shst_match_results', 'proposed_unmatched')\n",
    "if not os.path.exists(proposed_f):\n",
    "    os.mkdir(proposed_f)\n",
    "\n",
    "# existing, need to create a folder:\n",
    "existing_f = os.path.join(github_f, 'geojson', 'for_longer_distance_match')\n",
    "if not os.path.exists(existing_f):\n",
    "    os.mkdir(existing_f)"
   ]
  },
  {
   "cell_type": "code",
   "execution_count": 4,
   "metadata": {},
   "outputs": [],
   "source": [
    "def read_and_filter_unmatched(path, suffix):\n",
    "    \"\"\"\n",
    "    Read all unmatched records and split into 'proposed' and 'existing'.\n",
    "    \"\"\"\n",
    "    \n",
    "    proposed_gdf = pd.DataFrame()\n",
    "    \n",
    "    unmatched_file = glob.glob(path + '/' + suffix)\n",
    "\n",
    "    print('----------start reading unmatched data-------------')\n",
    "    for i in unmatched_file:\n",
    "        print('reading unmatched data : ', i)\n",
    "        df = gpd.read_file(i)\n",
    "\n",
    "        print('filter out existing links and export for next round of matching run')\n",
    "        df_existing = df.loc[df.ex_class.notnull()]\n",
    "        \n",
    "        if df_existing.shape[0] == 0:\n",
    "            print('no unmatched existing link')\n",
    "        elif df_existing.shape[0] > 0:\n",
    "            df_existing_export = os.path.basename(i).split('.')[0] + '_unmatched_ext.geojson'\n",
    "            print('export to: {}'.format(df_existing_export))\n",
    "            df_existing.to_file(os.path.join(existing_f, df_existing_export),\n",
    "                                driver = \"GeoJSON\")\n",
    "\n",
    "        print('filter out proposed links')\n",
    "        df_proposed = df.loc[df.ex_class.isnull()]        \n",
    "        proposed_gdf = pd.concat([proposed_gdf, df_proposed],\n",
    "                                 ignore_index = True,\n",
    "                                 sort = False)\n",
    "    print('----------finished reading unmatched data-------------')\n",
    "    \n",
    "    if proposed_gdf.shape[0] == 0:\n",
    "        print('no unmatched proposed link')\n",
    "    elif proposed_gdf.shape[0] > 0:\n",
    "        proposed_gdf_export = os.path.basename(i).split('epsg4326')[0]+'epsg4326_unmatched_proposed.geojson'\n",
    "        print('export unmatched and proposed links to: {}'.format(proposed_gdf_export))\n",
    "    #     display(proposed_gdf)\n",
    "        \n",
    "        proposed_gdf.to_file(os.path.join(proposed_f, proposed_gdf_export),\n",
    "                                 driver = \"GeoJSON\")"
   ]
  },
  {
   "cell_type": "code",
   "execution_count": 5,
   "metadata": {},
   "outputs": [
    {
     "name": "stdout",
     "output_type": "stream",
     "text": [
      "----------start reading unmatched data-------------\n",
      "reading unmatched data :  C:\\Users\\ywang\\Box\\DataViz Projects\\Spatial Analysis and Mapping\\Active Transportation Plan\\Data\\shst_match\\2_car_rules/actc_bike_network_epsg4326.out.unmatched.geojson\n",
      "filter out existing links and export for next round of matching run\n",
      "export to: actc_bike_network_epsg4326_unmatched_ext.geojson\n",
      "filter out proposed links\n",
      "----------finished reading unmatched data-------------\n",
      "export unmatched and proposed links to: actc_bike_network_epsg4326_unmatched_proposed.geojson\n"
     ]
    }
   ],
   "source": [
    "suffix = 'actc_bike_network_epsg4326.out.unmatched.geojson'\n",
    "read_and_filter_unmatched(unmatched_f, suffix)"
   ]
  },
  {
   "cell_type": "code",
   "execution_count": 6,
   "metadata": {},
   "outputs": [
    {
     "name": "stdout",
     "output_type": "stream",
     "text": [
      "----------start reading unmatched data-------------\n",
      "reading unmatched data :  C:\\Users\\ywang\\Box\\DataViz Projects\\Spatial Analysis and Mapping\\Active Transportation Plan\\Data\\shst_match\\2_car_rules/oakland_bike_network_epsg4326.out.unmatched.geojson\n",
      "filter out existing links and export for next round of matching run\n",
      "export to: oakland_bike_network_epsg4326_unmatched_ext.geojson\n",
      "filter out proposed links\n",
      "----------finished reading unmatched data-------------\n",
      "export unmatched and proposed links to: oakland_bike_network_epsg4326_unmatched_proposed.geojson\n"
     ]
    }
   ],
   "source": [
    "suffix = 'oakland_bike_network_epsg4326.out.unmatched.geojson'\n",
    "read_and_filter_unmatched(unmatched_f, suffix)"
   ]
  },
  {
   "cell_type": "code",
   "execution_count": 7,
   "metadata": {},
   "outputs": [
    {
     "name": "stdout",
     "output_type": "stream",
     "text": [
      "----------start reading unmatched data-------------\n",
      "reading unmatched data :  C:\\Users\\ywang\\Box\\DataViz Projects\\Spatial Analysis and Mapping\\Active Transportation Plan\\Data\\shst_match\\2_car_rules\\caltrans_d4_bike_network_epsg4326_13.out.unmatched.geojson\n",
      "filter out existing links and export for next round of matching run\n",
      "no unmatched existing link\n",
      "filter out proposed links\n",
      "reading unmatched data :  C:\\Users\\ywang\\Box\\DataViz Projects\\Spatial Analysis and Mapping\\Active Transportation Plan\\Data\\shst_match\\2_car_rules\\caltrans_d4_bike_network_epsg4326_14.out.unmatched.geojson\n",
      "filter out existing links and export for next round of matching run\n",
      "no unmatched existing link\n",
      "filter out proposed links\n",
      "reading unmatched data :  C:\\Users\\ywang\\Box\\DataViz Projects\\Spatial Analysis and Mapping\\Active Transportation Plan\\Data\\shst_match\\2_car_rules\\caltrans_d4_bike_network_epsg4326_2.out.unmatched.geojson\n",
      "filter out existing links and export for next round of matching run\n",
      "no unmatched existing link\n",
      "filter out proposed links\n",
      "reading unmatched data :  C:\\Users\\ywang\\Box\\DataViz Projects\\Spatial Analysis and Mapping\\Active Transportation Plan\\Data\\shst_match\\2_car_rules\\caltrans_d4_bike_network_epsg4326_3.out.unmatched.geojson\n",
      "filter out existing links and export for next round of matching run\n",
      "no unmatched existing link\n",
      "filter out proposed links\n",
      "reading unmatched data :  C:\\Users\\ywang\\Box\\DataViz Projects\\Spatial Analysis and Mapping\\Active Transportation Plan\\Data\\shst_match\\2_car_rules\\caltrans_d4_bike_network_epsg4326_5.out.unmatched.geojson\n",
      "filter out existing links and export for next round of matching run\n",
      "no unmatched existing link\n",
      "filter out proposed links\n",
      "reading unmatched data :  C:\\Users\\ywang\\Box\\DataViz Projects\\Spatial Analysis and Mapping\\Active Transportation Plan\\Data\\shst_match\\2_car_rules\\caltrans_d4_bike_network_epsg4326_7.out.unmatched.geojson\n",
      "filter out existing links and export for next round of matching run\n",
      "no unmatched existing link\n",
      "filter out proposed links\n",
      "reading unmatched data :  C:\\Users\\ywang\\Box\\DataViz Projects\\Spatial Analysis and Mapping\\Active Transportation Plan\\Data\\shst_match\\2_car_rules\\caltrans_d4_bike_network_epsg4326_8.out.unmatched.geojson\n",
      "filter out existing links and export for next round of matching run\n",
      "no unmatched existing link\n",
      "filter out proposed links\n",
      "----------finished reading unmatched data-------------\n",
      "export unmatched and proposed links to: caltrans_d4_bike_network_epsg4326_unmatched_proposed.geojson\n"
     ]
    }
   ],
   "source": [
    "suffix = 'caltrans_d4_bike_network_epsg4326_*.out.unmatched.geojson'\n",
    "read_and_filter_unmatched(unmatched_f, suffix)"
   ]
  },
  {
   "cell_type": "code",
   "execution_count": 8,
   "metadata": {},
   "outputs": [
    {
     "name": "stdout",
     "output_type": "stream",
     "text": [
      "----------start reading unmatched data-------------\n",
      "reading unmatched data :  C:\\Users\\ywang\\Box\\DataViz Projects\\Spatial Analysis and Mapping\\Active Transportation Plan\\Data\\shst_match\\2_car_rules/ccta_bike_network_epsg4326.out.unmatched.geojson\n",
      "filter out existing links and export for next round of matching run\n",
      "export to: ccta_bike_network_epsg4326_unmatched_ext.geojson\n",
      "filter out proposed links\n",
      "----------finished reading unmatched data-------------\n",
      "export unmatched and proposed links to: ccta_bike_network_epsg4326_unmatched_proposed.geojson\n"
     ]
    }
   ],
   "source": [
    "suffix = 'ccta_bike_network_epsg4326.out.unmatched.geojson'\n",
    "read_and_filter_unmatched(unmatched_f, suffix)"
   ]
  },
  {
   "cell_type": "code",
   "execution_count": 9,
   "metadata": {},
   "outputs": [
    {
     "name": "stdout",
     "output_type": "stream",
     "text": [
      "----------start reading unmatched data-------------\n",
      "reading unmatched data :  C:\\Users\\ywang\\Box\\DataViz Projects\\Spatial Analysis and Mapping\\Active Transportation Plan\\Data\\shst_match\\2_car_rules/nvta_bike_network_epsg4326.out.unmatched.geojson\n",
      "filter out existing links and export for next round of matching run\n",
      "export to: nvta_bike_network_epsg4326_unmatched_ext.geojson\n",
      "filter out proposed links\n",
      "----------finished reading unmatched data-------------\n",
      "export unmatched and proposed links to: nvta_bike_network_epsg4326_unmatched_proposed.geojson\n"
     ]
    }
   ],
   "source": [
    "suffix = 'nvta_bike_network_epsg4326.out.unmatched.geojson'\n",
    "read_and_filter_unmatched(unmatched_f, suffix)"
   ]
  },
  {
   "cell_type": "code",
   "execution_count": 10,
   "metadata": {},
   "outputs": [
    {
     "name": "stdout",
     "output_type": "stream",
     "text": [
      "----------start reading unmatched data-------------\n",
      "reading unmatched data :  C:\\Users\\ywang\\Box\\DataViz Projects\\Spatial Analysis and Mapping\\Active Transportation Plan\\Data\\shst_match\\2_car_rules/scta_bike_network_epsg4326.out.unmatched.geojson\n",
      "filter out existing links and export for next round of matching run\n",
      "export to: scta_bike_network_epsg4326_unmatched_ext.geojson\n",
      "filter out proposed links\n",
      "----------finished reading unmatched data-------------\n",
      "export unmatched and proposed links to: scta_bike_network_epsg4326_unmatched_proposed.geojson\n"
     ]
    }
   ],
   "source": [
    "suffix = 'scta_bike_network_epsg4326.out.unmatched.geojson'\n",
    "read_and_filter_unmatched(unmatched_f, suffix)"
   ]
  },
  {
   "cell_type": "code",
   "execution_count": 11,
   "metadata": {},
   "outputs": [
    {
     "name": "stdout",
     "output_type": "stream",
     "text": [
      "----------start reading unmatched data-------------\n",
      "reading unmatched data :  C:\\Users\\ywang\\Box\\DataViz Projects\\Spatial Analysis and Mapping\\Active Transportation Plan\\Data\\shst_match\\2_car_rules/sfcta_bike_network_epsg4326.out.unmatched.geojson\n",
      "filter out existing links and export for next round of matching run\n",
      "export to: sfcta_bike_network_epsg4326_unmatched_ext.geojson\n",
      "filter out proposed links\n",
      "----------finished reading unmatched data-------------\n",
      "no unmatched proposed link\n"
     ]
    }
   ],
   "source": [
    "suffix = 'sfcta_bike_network_epsg4326.out.unmatched.geojson'\n",
    "read_and_filter_unmatched(unmatched_f, suffix)"
   ]
  },
  {
   "cell_type": "code",
   "execution_count": 12,
   "metadata": {},
   "outputs": [
    {
     "name": "stdout",
     "output_type": "stream",
     "text": [
      "----------start reading unmatched data-------------\n",
      "reading unmatched data :  C:\\Users\\ywang\\Box\\DataViz Projects\\Spatial Analysis and Mapping\\Active Transportation Plan\\Data\\shst_match\\2_car_rules/sta_bike_network_epsg4326.out.unmatched.geojson\n",
      "filter out existing links and export for next round of matching run\n",
      "export to: sta_bike_network_epsg4326_unmatched_ext.geojson\n",
      "filter out proposed links\n",
      "----------finished reading unmatched data-------------\n",
      "export unmatched and proposed links to: sta_bike_network_epsg4326_unmatched_proposed.geojson\n"
     ]
    }
   ],
   "source": [
    "suffix = 'sta_bike_network_epsg4326.out.unmatched.geojson'\n",
    "read_and_filter_unmatched(unmatched_f, suffix)"
   ]
  },
  {
   "cell_type": "code",
   "execution_count": 13,
   "metadata": {},
   "outputs": [
    {
     "name": "stdout",
     "output_type": "stream",
     "text": [
      "----------start reading unmatched data-------------\n",
      "reading unmatched data :  C:\\Users\\ywang\\Box\\DataViz Projects\\Spatial Analysis and Mapping\\Active Transportation Plan\\Data\\shst_match\\2_car_rules/tam_bike_network_epsg4326.out.unmatched.geojson\n",
      "filter out existing links and export for next round of matching run\n",
      "export to: tam_bike_network_epsg4326_unmatched_ext.geojson\n",
      "filter out proposed links\n",
      "----------finished reading unmatched data-------------\n",
      "export unmatched and proposed links to: tam_bike_network_epsg4326_unmatched_proposed.geojson\n"
     ]
    }
   ],
   "source": [
    "suffix = 'tam_bike_network_epsg4326.out.unmatched.geojson'\n",
    "read_and_filter_unmatched(unmatched_f, suffix)"
   ]
  },
  {
   "cell_type": "code",
   "execution_count": 14,
   "metadata": {},
   "outputs": [
    {
     "name": "stdout",
     "output_type": "stream",
     "text": [
      "----------start reading unmatched data-------------\n",
      "reading unmatched data :  C:\\Users\\ywang\\Box\\DataViz Projects\\Spatial Analysis and Mapping\\Active Transportation Plan\\Data\\shst_match\\2_car_rules\\vta_bike_network_v2_epsg4326_11.out.unmatched.geojson\n",
      "filter out existing links and export for next round of matching run\n",
      "export to: vta_bike_network_v2_epsg4326_11_unmatched_ext.geojson\n",
      "filter out proposed links\n",
      "reading unmatched data :  C:\\Users\\ywang\\Box\\DataViz Projects\\Spatial Analysis and Mapping\\Active Transportation Plan\\Data\\shst_match\\2_car_rules\\vta_bike_network_v2_epsg4326_12.out.unmatched.geojson\n",
      "filter out existing links and export for next round of matching run\n",
      "export to: vta_bike_network_v2_epsg4326_12_unmatched_ext.geojson\n",
      "filter out proposed links\n",
      "reading unmatched data :  C:\\Users\\ywang\\Box\\DataViz Projects\\Spatial Analysis and Mapping\\Active Transportation Plan\\Data\\shst_match\\2_car_rules\\vta_bike_network_v2_epsg4326_13.out.unmatched.geojson\n",
      "filter out existing links and export for next round of matching run\n",
      "export to: vta_bike_network_v2_epsg4326_13_unmatched_ext.geojson\n",
      "filter out proposed links\n",
      "reading unmatched data :  C:\\Users\\ywang\\Box\\DataViz Projects\\Spatial Analysis and Mapping\\Active Transportation Plan\\Data\\shst_match\\2_car_rules\\vta_bike_network_v2_epsg4326_6.out.unmatched.geojson\n",
      "filter out existing links and export for next round of matching run\n",
      "export to: vta_bike_network_v2_epsg4326_6_unmatched_ext.geojson\n",
      "filter out proposed links\n",
      "----------finished reading unmatched data-------------\n",
      "export unmatched and proposed links to: vta_bike_network_v2_epsg4326_unmatched_proposed.geojson\n"
     ]
    }
   ],
   "source": [
    "suffix = 'vta_bike_network_v2_epsg4326_*.out.unmatched.geojson'\n",
    "read_and_filter_unmatched(unmatched_f, suffix)"
   ]
  },
  {
   "cell_type": "code",
   "execution_count": 15,
   "metadata": {},
   "outputs": [],
   "source": [
    "# suffix = 'ccag_bike_network_epsg4326.out.unmatched.geojson'\n",
    "# read_and_filter_unmatched(unmatched_f, suffix)"
   ]
  },
  {
   "cell_type": "code",
   "execution_count": 16,
   "metadata": {
    "scrolled": true
   },
   "outputs": [
    {
     "name": "stdout",
     "output_type": "stream",
     "text": [
      "----------start reading unmatched data-------------\n",
      "reading unmatched data :  C:\\Users\\ywang\\Box\\DataViz Projects\\Spatial Analysis and Mapping\\Active Transportation Plan\\Data\\shst_match\\2_car_rules\\batc_bike_network_v2_epsg4326_1.out.unmatched.geojson\n",
      "filter out existing links and export for next round of matching run\n",
      "export to: batc_bike_network_v2_epsg4326_1_unmatched_ext.geojson\n",
      "filter out proposed links\n",
      "reading unmatched data :  C:\\Users\\ywang\\Box\\DataViz Projects\\Spatial Analysis and Mapping\\Active Transportation Plan\\Data\\shst_match\\2_car_rules\\batc_bike_network_v2_epsg4326_10.out.unmatched.geojson\n",
      "filter out existing links and export for next round of matching run\n",
      "export to: batc_bike_network_v2_epsg4326_10_unmatched_ext.geojson\n",
      "filter out proposed links\n",
      "reading unmatched data :  C:\\Users\\ywang\\Box\\DataViz Projects\\Spatial Analysis and Mapping\\Active Transportation Plan\\Data\\shst_match\\2_car_rules\\batc_bike_network_v2_epsg4326_11.out.unmatched.geojson\n",
      "filter out existing links and export for next round of matching run\n",
      "export to: batc_bike_network_v2_epsg4326_11_unmatched_ext.geojson\n",
      "filter out proposed links\n",
      "reading unmatched data :  C:\\Users\\ywang\\Box\\DataViz Projects\\Spatial Analysis and Mapping\\Active Transportation Plan\\Data\\shst_match\\2_car_rules\\batc_bike_network_v2_epsg4326_12.out.unmatched.geojson\n",
      "filter out existing links and export for next round of matching run\n",
      "export to: batc_bike_network_v2_epsg4326_12_unmatched_ext.geojson\n",
      "filter out proposed links\n",
      "reading unmatched data :  C:\\Users\\ywang\\Box\\DataViz Projects\\Spatial Analysis and Mapping\\Active Transportation Plan\\Data\\shst_match\\2_car_rules\\batc_bike_network_v2_epsg4326_13.out.unmatched.geojson\n",
      "filter out existing links and export for next round of matching run\n",
      "export to: batc_bike_network_v2_epsg4326_13_unmatched_ext.geojson\n",
      "filter out proposed links\n",
      "reading unmatched data :  C:\\Users\\ywang\\Box\\DataViz Projects\\Spatial Analysis and Mapping\\Active Transportation Plan\\Data\\shst_match\\2_car_rules\\batc_bike_network_v2_epsg4326_14.out.unmatched.geojson\n",
      "filter out existing links and export for next round of matching run\n",
      "export to: batc_bike_network_v2_epsg4326_14_unmatched_ext.geojson\n",
      "filter out proposed links\n",
      "reading unmatched data :  C:\\Users\\ywang\\Box\\DataViz Projects\\Spatial Analysis and Mapping\\Active Transportation Plan\\Data\\shst_match\\2_car_rules\\batc_bike_network_v2_epsg4326_2.out.unmatched.geojson\n",
      "filter out existing links and export for next round of matching run\n",
      "export to: batc_bike_network_v2_epsg4326_2_unmatched_ext.geojson\n",
      "filter out proposed links\n",
      "reading unmatched data :  C:\\Users\\ywang\\Box\\DataViz Projects\\Spatial Analysis and Mapping\\Active Transportation Plan\\Data\\shst_match\\2_car_rules\\batc_bike_network_v2_epsg4326_3.out.unmatched.geojson\n",
      "filter out existing links and export for next round of matching run\n",
      "export to: batc_bike_network_v2_epsg4326_3_unmatched_ext.geojson\n",
      "filter out proposed links\n",
      "reading unmatched data :  C:\\Users\\ywang\\Box\\DataViz Projects\\Spatial Analysis and Mapping\\Active Transportation Plan\\Data\\shst_match\\2_car_rules\\batc_bike_network_v2_epsg4326_4.out.unmatched.geojson\n",
      "filter out existing links and export for next round of matching run\n",
      "export to: batc_bike_network_v2_epsg4326_4_unmatched_ext.geojson\n",
      "filter out proposed links\n",
      "reading unmatched data :  C:\\Users\\ywang\\Box\\DataViz Projects\\Spatial Analysis and Mapping\\Active Transportation Plan\\Data\\shst_match\\2_car_rules\\batc_bike_network_v2_epsg4326_5.out.unmatched.geojson\n",
      "filter out existing links and export for next round of matching run\n",
      "export to: batc_bike_network_v2_epsg4326_5_unmatched_ext.geojson\n",
      "filter out proposed links\n",
      "reading unmatched data :  C:\\Users\\ywang\\Box\\DataViz Projects\\Spatial Analysis and Mapping\\Active Transportation Plan\\Data\\shst_match\\2_car_rules\\batc_bike_network_v2_epsg4326_6.out.unmatched.geojson\n",
      "filter out existing links and export for next round of matching run\n",
      "export to: batc_bike_network_v2_epsg4326_6_unmatched_ext.geojson\n",
      "filter out proposed links\n",
      "reading unmatched data :  C:\\Users\\ywang\\Box\\DataViz Projects\\Spatial Analysis and Mapping\\Active Transportation Plan\\Data\\shst_match\\2_car_rules\\batc_bike_network_v2_epsg4326_7.out.unmatched.geojson\n",
      "filter out existing links and export for next round of matching run\n",
      "export to: batc_bike_network_v2_epsg4326_7_unmatched_ext.geojson\n",
      "filter out proposed links\n",
      "reading unmatched data :  C:\\Users\\ywang\\Box\\DataViz Projects\\Spatial Analysis and Mapping\\Active Transportation Plan\\Data\\shst_match\\2_car_rules\\batc_bike_network_v2_epsg4326_8.out.unmatched.geojson\n",
      "filter out existing links and export for next round of matching run\n",
      "export to: batc_bike_network_v2_epsg4326_8_unmatched_ext.geojson\n",
      "filter out proposed links\n",
      "reading unmatched data :  C:\\Users\\ywang\\Box\\DataViz Projects\\Spatial Analysis and Mapping\\Active Transportation Plan\\Data\\shst_match\\2_car_rules\\batc_bike_network_v2_epsg4326_9.out.unmatched.geojson\n",
      "filter out existing links and export for next round of matching run\n",
      "export to: batc_bike_network_v2_epsg4326_9_unmatched_ext.geojson\n",
      "filter out proposed links\n",
      "----------finished reading unmatched data-------------\n"
     ]
    }
   ],
   "source": [
    "# batc dataset has encoding error, fix before exporting\n",
    "\n",
    "suffix = 'batc_bike_network_v2_epsg4326_*.out.unmatched.geojson'\n",
    "\n",
    "proposed_gdf = pd.DataFrame()\n",
    "\n",
    "unmatched_file = glob.glob(unmatched_f + '/' + suffix)\n",
    "\n",
    "print('----------start reading unmatched data-------------')\n",
    "for i in unmatched_file:\n",
    "    print('reading unmatched data : ', i)\n",
    "    df = gpd.read_file(i)\n",
    "\n",
    "    print('filter out existing links and export for next round of matching run')\n",
    "    df_existing = df.loc[df.ex_class.notnull()]\n",
    "\n",
    "    if df_existing.shape[0] == 0:\n",
    "        print('no unmatched existing link')\n",
    "    elif df_existing.shape[0] > 0:\n",
    "        df_existing_export = os.path.basename(i).split('.')[0] + '_unmatched_ext.geojson'\n",
    "        print('export to: {}'.format(df_existing_export))\n",
    "        df_existing.to_file(os.path.join(existing_f, df_existing_export),\n",
    "                            driver = \"GeoJSON\")\n",
    "\n",
    "    print('filter out proposed links')\n",
    "    df_proposed = df.loc[df.ex_class.isnull()]        \n",
    "    proposed_gdf = pd.concat([proposed_gdf, df_proposed],\n",
    "                             ignore_index = True,\n",
    "                             sort = False)\n",
    "print('----------finished reading unmatched data-------------')\n",
    "\n",
    "if proposed_gdf.shape[0] == 0:\n",
    "    print('no unmatched proposed link')\n",
    "elif proposed_gdf.shape[0] > 0:\n",
    "    proposed_gdf_export = os.path.basename(i).split('epsg4326')[0]+'epsg4326_unmatched_proposed.geojson'"
   ]
  },
  {
   "cell_type": "code",
   "execution_count": 17,
   "metadata": {},
   "outputs": [
    {
     "name": "stdout",
     "output_type": "stream",
     "text": [
      "['Marsh Creek Regional Trail' 'Southern Pacific Railroad'\n",
      " 'Great California Delta Trail' 'California Delta Trail'\n",
      " 'Brushy Peak to Bethany Reservoir Trail'\n",
      " 'Crockett to Crockett Hills Regional Park' 'Bay Area Ridge Trail'\n",
      " 'Iron Horse Trail' 'Martinez Shoreline to Pt. Edith'\n",
      " 'San Francisco Bay Trail' 'Wildcat Creek Trail'\n",
      " 'Walnut Creek Channel Extension' 'Delta de Anza Regional Trail'\n",
      " 'Richmond Greenway' 'Mission Blvd' 'Niles Canyon Trail' 'Niles reroute'\n",
      " 'East Bay Greenway' 'Five Wounds Trail' 'Guadelupe River Trail'\n",
      " 'Juan Bautista de Anza NHT Juan Bautista de Anza NHT na'\n",
      " 'Juan Bautista de Anza NHT (bicycle route) Juan Bautista de Anza NHT  Guadalupe Sub-regional Trail'\n",
      " 'Coyote Creek Trail'\n",
      " 'Guadalupe Sub-regional Trail Guadalupe Sub-regional Trail na'\n",
      " 'Upper Guadalupe Trail Connector Trail' 'Penitencia Creek Trail'\n",
      " 'Los Gatos Creek Trail' 'Stevens Creek Blvd' 'Central Bikeway'\n",
      " 'CA Highway 17 Trail Crossing' 'Southern Pacific Rail Trail'\n",
      " 'Adobe Creek Connector Trail Adobe Creek Connector Trail na'\n",
      " 'Matadero Creek Trail' 'El Sereno, option 1 El Sereno, option 1  '\n",
      " 'San Tomas Expressway Trail'\n",
      " \"Southern Pacific Rail Trail - Joe's Trail at Saratoga de Anza\"\n",
      " 'Stevens Creek Trail' 'Stevens Creek Trail ' 'San Lorenzo Creekway'\n",
      " 'Hayward Foothill Trail' '66th Ave Trail' 'Emeryville Greenway'\n",
      " 'Lake Merritt to Bay Trail Connection' 'Stanford Ave'\n",
      " 'Russian River Trail' 'SMART Pathway' 'Sonoma County Bay Trail'\n",
      " 'Petaluma River Trail' 'Lower Russian River Trail'\n",
      " 'Petaluma-Sebastopol Trail' 'Joe Rodota Trail' 'NWP TRAIL'\n",
      " 'SMART RAIL TRAIL (NWP)' 'Southeast Greenway' 'Great Redwood Trail'\n",
      " 'California Coastal Trail' 'Highway 1 Trail' 'Vallejo Bluffs'\n",
      " 'South Vallejo Riverwalk' 'Linear Park Pathway' 'East-West Bikeway'\n",
      " 'Alto Tunnel Path' 'Skyline Blvd/Hwy 35 Crossing'\n",
      " 'Montara Lighthouse to Moss Beach'\n",
      " 'Gap- Pomponio to Pomponio Pomponio to Pomponio  '\n",
      " 'Gap- Cowell Purisima to San Gregorio Cowell Purisima to San Gregorio  '\n",
      " 'Unofficial Proposed Pomponio' 'PS-18 Trail' 'Bay-to-Sea Trail'\n",
      " 'Crystal Springs Regional Trail' 'Shaw Road' 'Foster City Levee Pedway'\n",
      " 'State Highway 1 Trail' 'Tanforan Avenue'\n",
      " 'Iron Horse Trail � San Joaquin County to Shadow Cliffs']\n"
     ]
    }
   ],
   "source": [
    "print(proposed_gdf.primarytrailname.unique())"
   ]
  },
  {
   "cell_type": "code",
   "execution_count": 18,
   "metadata": {},
   "outputs": [
    {
     "name": "stdout",
     "output_type": "stream",
     "text": [
      "['Marsh Creek Regional Trail' 'Southern Pacific Railroad'\n",
      " 'Great California Delta Trail' 'California Delta Trail'\n",
      " 'Brushy Peak to Bethany Reservoir Trail'\n",
      " 'Crockett to Crockett Hills Regional Park' 'Bay Area Ridge Trail'\n",
      " 'Iron Horse Trail' 'Martinez Shoreline to Pt. Edith'\n",
      " 'San Francisco Bay Trail' 'Wildcat Creek Trail'\n",
      " 'Walnut Creek Channel Extension' 'Delta de Anza Regional Trail'\n",
      " 'Richmond Greenway' 'Mission Blvd' 'Niles Canyon Trail' 'Niles reroute'\n",
      " 'East Bay Greenway' 'Five Wounds Trail' 'Guadelupe River Trail'\n",
      " 'Juan Bautista de Anza NHT Juan Bautista de Anza NHT na'\n",
      " 'Juan Bautista de Anza NHT (bicycle route) Juan Bautista de Anza NHT  Guadalupe Sub-regional Trail'\n",
      " 'Coyote Creek Trail'\n",
      " 'Guadalupe Sub-regional Trail Guadalupe Sub-regional Trail na'\n",
      " 'Upper Guadalupe Trail Connector Trail' 'Penitencia Creek Trail'\n",
      " 'Los Gatos Creek Trail' 'Stevens Creek Blvd' 'Central Bikeway'\n",
      " 'CA Highway 17 Trail Crossing' 'Southern Pacific Rail Trail'\n",
      " 'Adobe Creek Connector Trail Adobe Creek Connector Trail na'\n",
      " 'Matadero Creek Trail' 'El Sereno, option 1 El Sereno, option 1  '\n",
      " 'San Tomas Expressway Trail'\n",
      " \"Southern Pacific Rail Trail - Joe's Trail at Saratoga de Anza\"\n",
      " 'Stevens Creek Trail' 'Stevens Creek Trail ' 'San Lorenzo Creekway'\n",
      " 'Hayward Foothill Trail' '66th Ave Trail' 'Emeryville Greenway'\n",
      " 'Lake Merritt to Bay Trail Connection' 'Stanford Ave'\n",
      " 'Russian River Trail' 'SMART Pathway' 'Sonoma County Bay Trail'\n",
      " 'Petaluma River Trail' 'Lower Russian River Trail'\n",
      " 'Petaluma-Sebastopol Trail' 'Joe Rodota Trail' 'NWP TRAIL'\n",
      " 'SMART RAIL TRAIL (NWP)' 'Southeast Greenway' 'Great Redwood Trail'\n",
      " 'California Coastal Trail' 'Highway 1 Trail' 'Vallejo Bluffs'\n",
      " 'South Vallejo Riverwalk' 'Linear Park Pathway' 'East-West Bikeway'\n",
      " 'Alto Tunnel Path' 'Skyline Blvd/Hwy 35 Crossing'\n",
      " 'Montara Lighthouse to Moss Beach'\n",
      " 'Gap- Pomponio to Pomponio Pomponio to Pomponio  '\n",
      " 'Gap- Cowell Purisima to San Gregorio Cowell Purisima to San Gregorio  '\n",
      " 'Unofficial Proposed Pomponio' 'PS-18 Trail' 'Bay-to-Sea Trail'\n",
      " 'Crystal Springs Regional Trail' 'Shaw Road' 'Foster City Levee Pedway'\n",
      " 'State Highway 1 Trail' 'Tanforan Avenue'\n",
      " 'Iron Horse Trail  San Joaquin County to Shadow Cliffs']\n"
     ]
    }
   ],
   "source": [
    "proposed_gdf['primarytrailname'] = proposed_gdf['primarytrailname'].apply(lambda x: x.replace('�', ''))\n",
    "print(proposed_gdf.primarytrailname.unique())"
   ]
  },
  {
   "cell_type": "code",
   "execution_count": 19,
   "metadata": {},
   "outputs": [],
   "source": [
    "proposed_gdf.to_file(os.path.join(proposed_f, proposed_gdf_export), driver = \"GeoJSON\")"
   ]
  }
 ],
 "metadata": {
  "kernelspec": {
   "display_name": "Python 3",
   "language": "python",
   "name": "python3"
  },
  "language_info": {
   "codemirror_mode": {
    "name": "ipython",
    "version": 3
   },
   "file_extension": ".py",
   "mimetype": "text/x-python",
   "name": "python",
   "nbconvert_exporter": "python",
   "pygments_lexer": "ipython3",
   "version": "3.7.4"
  }
 },
 "nbformat": 4,
 "nbformat_minor": 2
}
